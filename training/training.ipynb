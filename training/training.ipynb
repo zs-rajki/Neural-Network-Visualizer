{
  "nbformat": 4,
  "nbformat_minor": 0,
  "metadata": {
    "colab": {
      "provenance": [],
      "gpuType": "T4"
    },
    "kernelspec": {
      "name": "python3",
      "display_name": "Python 3"
    },
    "language_info": {
      "name": "python"
    },
    "accelerator": "GPU"
  },
  "cells": [
    {
      "cell_type": "markdown",
      "source": [
        "# Notebook for training the Neural Network"
      ],
      "metadata": {
        "id": "7mW_yIBSXt0R"
      }
    },
    {
      "cell_type": "markdown",
      "source": [
        "## Import libraries"
      ],
      "metadata": {
        "id": "tGq-_L_kX2t3"
      }
    },
    {
      "cell_type": "code",
      "execution_count": 1,
      "metadata": {
        "id": "TCPR7XhXXW5p"
      },
      "outputs": [],
      "source": [
        "import torch\n",
        "import torch.nn as nn\n",
        "import torch.optim as optim\n",
        "from torchvision import datasets, transforms\n",
        "from torch.utils.data import DataLoader\n",
        "import json\n",
        "import os"
      ]
    },
    {
      "cell_type": "markdown",
      "source": [
        "## Check for GPU"
      ],
      "metadata": {
        "id": "Qyn8nBRHYJru"
      }
    },
    {
      "cell_type": "code",
      "source": [
        "device = torch.device('cuda' if torch.cuda.is_available() else 'cpu')\n",
        "print(f\"Using device: {device}\")"
      ],
      "metadata": {
        "colab": {
          "base_uri": "https://localhost:8080/"
        },
        "id": "9QkFGknCYNIq",
        "outputId": "817b5daf-61e1-4ea5-9570-6671a3c2bd49"
      },
      "execution_count": 2,
      "outputs": [
        {
          "output_type": "stream",
          "name": "stdout",
          "text": [
            "Using device: cuda\n"
          ]
        }
      ]
    },
    {
      "cell_type": "markdown",
      "source": [
        "## Define model"
      ],
      "metadata": {
        "id": "uxLnY0gSYcgy"
      }
    },
    {
      "cell_type": "code",
      "source": [
        "class SimpleMLP(nn.Module):\n",
        "    def __init__(self):\n",
        "        super().__init__()\n",
        "        self.model = nn.Sequential(\n",
        "            nn.Flatten(),\n",
        "            nn.Linear(28*28, 32),\n",
        "            nn.ReLU(),\n",
        "            nn.Linear(32, 16),\n",
        "            nn.ReLU(),\n",
        "            nn.Linear(16, 10)  # No softmax here; CrossEntropyLoss expects raw logits\n",
        "        )\n",
        "\n",
        "    def forward(self, x):\n",
        "        return self.model(x)"
      ],
      "metadata": {
        "id": "V9axoLHPYhTK"
      },
      "execution_count": 3,
      "outputs": []
    },
    {
      "cell_type": "markdown",
      "source": [
        "## Load MNIST data"
      ],
      "metadata": {
        "id": "Gljm19n-Yozm"
      }
    },
    {
      "cell_type": "code",
      "source": [
        "transform = transforms.ToTensor()\n",
        "\n",
        "train_data = datasets.MNIST(root='./data', train=True, download=True, transform=transform)\n",
        "test_data  = datasets.MNIST(root='./data', train=False, download=True, transform=transform)\n",
        "\n",
        "train_loader = DataLoader(train_data, batch_size=64, shuffle=True)\n",
        "test_loader  = DataLoader(test_data, batch_size=1000, shuffle=False)"
      ],
      "metadata": {
        "colab": {
          "base_uri": "https://localhost:8080/"
        },
        "id": "rL549p3OYuKH",
        "outputId": "82bf437b-ffa9-4c05-9906-b99830101d8b"
      },
      "execution_count": 4,
      "outputs": [
        {
          "output_type": "stream",
          "name": "stderr",
          "text": [
            "100%|██████████| 9.91M/9.91M [00:02<00:00, 4.61MB/s]\n",
            "100%|██████████| 28.9k/28.9k [00:00<00:00, 132kB/s]\n",
            "100%|██████████| 1.65M/1.65M [00:01<00:00, 1.09MB/s]\n",
            "100%|██████████| 4.54k/4.54k [00:00<00:00, 8.31MB/s]\n"
          ]
        }
      ]
    },
    {
      "cell_type": "markdown",
      "source": [
        "## Training"
      ],
      "metadata": {
        "id": "68JdRiMEYyf4"
      }
    },
    {
      "cell_type": "code",
      "source": [
        "model = SimpleMLP().to(device)\n",
        "criterion = nn.CrossEntropyLoss()\n",
        "optimizer = optim.Adam(model.parameters(), lr=0.001)\n",
        "\n",
        "# Training loop\n",
        "epochs = 20\n",
        "for epoch in range(epochs):\n",
        "    model.train()\n",
        "    total_loss = 0\n",
        "    for inputs, labels in train_loader:\n",
        "        inputs, labels = inputs.to(device), labels.to(device)\n",
        "\n",
        "        optimizer.zero_grad()\n",
        "        outputs = model(inputs)\n",
        "        loss = criterion(outputs, labels)\n",
        "        loss.backward()\n",
        "        optimizer.step()\n",
        "\n",
        "        total_loss += loss.item()\n",
        "\n",
        "    print(f\"Epoch {epoch+1}/{epochs} - Loss: {total_loss/len(train_loader):.4f}\")\n",
        "\n",
        "# Evaluate accuracy\n",
        "model.eval()\n",
        "correct = 0\n",
        "total = 0\n",
        "with torch.no_grad():\n",
        "    for inputs, labels in test_loader:\n",
        "        inputs, labels = inputs.to(device), labels.to(device)\n",
        "        outputs = model(inputs)\n",
        "        _, predicted = torch.max(outputs, 1)\n",
        "        correct += (predicted == labels).sum().item()\n",
        "        total += labels.size(0)\n",
        "\n",
        "accuracy = 100 * correct / total\n",
        "print(f\"Test Accuracy: {accuracy:.2f}%\")"
      ],
      "metadata": {
        "colab": {
          "base_uri": "https://localhost:8080/"
        },
        "id": "WCx2ltQqY3Yd",
        "outputId": "e5f52bfc-6b67-467c-edd0-cf4140a781f1"
      },
      "execution_count": 6,
      "outputs": [
        {
          "output_type": "stream",
          "name": "stdout",
          "text": [
            "Epoch 1/20 - Loss: 0.5458\n",
            "Epoch 2/20 - Loss: 0.2530\n",
            "Epoch 3/20 - Loss: 0.1960\n",
            "Epoch 4/20 - Loss: 0.1601\n",
            "Epoch 5/20 - Loss: 0.1366\n",
            "Epoch 6/20 - Loss: 0.1203\n",
            "Epoch 7/20 - Loss: 0.1082\n",
            "Epoch 8/20 - Loss: 0.0982\n",
            "Epoch 9/20 - Loss: 0.0918\n",
            "Epoch 10/20 - Loss: 0.0858\n",
            "Epoch 11/20 - Loss: 0.0797\n",
            "Epoch 12/20 - Loss: 0.0753\n",
            "Epoch 13/20 - Loss: 0.0699\n",
            "Epoch 14/20 - Loss: 0.0661\n",
            "Epoch 15/20 - Loss: 0.0620\n",
            "Epoch 16/20 - Loss: 0.0588\n",
            "Epoch 17/20 - Loss: 0.0550\n",
            "Epoch 18/20 - Loss: 0.0533\n",
            "Epoch 19/20 - Loss: 0.0498\n",
            "Epoch 20/20 - Loss: 0.0485\n",
            "Test Accuracy: 97.10%\n"
          ]
        }
      ]
    },
    {
      "cell_type": "markdown",
      "source": [
        "## Export weights"
      ],
      "metadata": {
        "id": "2t8aBhpcY_ON"
      }
    },
    {
      "cell_type": "code",
      "source": [
        "def export_model_to_json(model, filename='model_weights.json'):\n",
        "    model_weights = {}\n",
        "    for name, param in model.named_parameters():\n",
        "        model_weights[name] = param.detach().cpu().numpy().tolist()\n",
        "\n",
        "    with open(filename, 'w') as f:\n",
        "        json.dump(model_weights, f)\n",
        "\n",
        "export_model_to_json(model)\n",
        "print(\"Model weights exported to model_weights.json\")"
      ],
      "metadata": {
        "colab": {
          "base_uri": "https://localhost:8080/"
        },
        "id": "aDuVCyYTZBqq",
        "outputId": "9eb6e70a-a182-4ded-fcf9-b22f1afc194b"
      },
      "execution_count": 7,
      "outputs": [
        {
          "output_type": "stream",
          "name": "stdout",
          "text": [
            "Model weights exported to model_weights.json\n"
          ]
        }
      ]
    }
  ]
}